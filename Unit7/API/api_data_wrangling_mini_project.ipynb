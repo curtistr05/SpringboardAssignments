{
 "cells": [
  {
   "cell_type": "markdown",
   "metadata": {},
   "source": [
    "This exercise will require you to pull some data from the Qunadl API. Qaundl is currently the most widely used aggregator of financial market data."
   ]
  },
  {
   "cell_type": "markdown",
   "metadata": {},
   "source": [
    "As a first step, you will need to register a free account on the http://www.quandl.com website."
   ]
  },
  {
   "cell_type": "markdown",
   "metadata": {},
   "source": [
    "After you register, you will be provided with a unique API key, that you should store:"
   ]
  },
  {
   "cell_type": "code",
   "execution_count": 1,
   "metadata": {},
   "outputs": [],
   "source": [
    "# Store the API key as a string - according to PEP8, constants are always named in all upper case\n",
    "API_KEY = \n"
   ]
  },
  {
   "cell_type": "markdown",
   "metadata": {},
   "source": [
    "Qaundl has a large number of data sources, but, unfortunately, most of them require a Premium subscription. Still, there are also a good number of free datasets."
   ]
  },
  {
   "cell_type": "markdown",
   "metadata": {},
   "source": [
    "For this mini project, we will focus on equities data from the Frankfurt Stock Exhange (FSE), which is available for free. We'll try and analyze the stock prices of a company called Carl Zeiss Meditec, which manufactures tools for eye examinations, as well as medical lasers for laser eye surgery: https://www.zeiss.com/meditec/int/home.html. The company is listed under the stock ticker AFX_X."
   ]
  },
  {
   "cell_type": "markdown",
   "metadata": {},
   "source": [
    "You can find the detailed Quandl API instructions here: https://docs.quandl.com/docs/time-series"
   ]
  },
  {
   "cell_type": "markdown",
   "metadata": {},
   "source": [
    "While there is a dedicated Python package for connecting to the Quandl API, we would prefer that you use the *requests* package, which can be easily downloaded using *pip* or *conda*. You can find the documentation for the package here: http://docs.python-requests.org/en/master/ "
   ]
  },
  {
   "cell_type": "markdown",
   "metadata": {},
   "source": [
    "Finally, apart from the *requests* package, you are encouraged to not use any third party Python packages, such as *pandas*, and instead focus on what's available in the Python Standard Library (the *collections* module might come in handy: https://pymotw.com/3/collections/ ).\n",
    "Also, since you won't have access to DataFrames, you are encouraged to us Python's native data structures - preferably dictionaries, though some questions can also be answered using lists.\n",
    "You can read more on these data structures here: https://docs.python.org/3/tutorial/datastructures.html"
   ]
  },
  {
   "cell_type": "markdown",
   "metadata": {},
   "source": [
    "Keep in mind that the JSON responses you will be getting from the API map almost one-to-one to Python's dictionaries. Unfortunately, they can be very nested, so make sure you read up on indexing dictionaries in the documentation provided above."
   ]
  },
  {
   "cell_type": "code",
   "execution_count": 2,
   "metadata": {},
   "outputs": [
    {
     "name": "stdout",
     "output_type": "stream",
     "text": [
      "Requirement already satisfied: requests in c:\\users\\curtis\\anaconda3\\lib\\site-packages (2.23.0)\n",
      "Requirement already satisfied: certifi>=2017.4.17 in c:\\users\\curtis\\anaconda3\\lib\\site-packages (from requests) (2019.11.28)\n",
      "Requirement already satisfied: idna<3,>=2.5 in c:\\users\\curtis\\anaconda3\\lib\\site-packages (from requests) (2.8)\n",
      "Requirement already satisfied: urllib3!=1.25.0,!=1.25.1,<1.26,>=1.21.1 in c:\\users\\curtis\\anaconda3\\lib\\site-packages (from requests) (1.25.8)\n",
      "Requirement already satisfied: chardet<4,>=3.0.2 in c:\\users\\curtis\\anaconda3\\lib\\site-packages (from requests) (3.0.4)\n"
     ]
    }
   ],
   "source": [
    "# First, import the relevant modules\n",
    "!pip install requests\n",
    "import requests"
   ]
  },
  {
   "cell_type": "code",
   "execution_count": 3,
   "metadata": {},
   "outputs": [
    {
     "name": "stdout",
     "output_type": "stream",
     "text": [
      "{'dataset_data': {'limit': None, 'transform': None, 'column_index': None, 'column_names': ['Date', 'Open', 'High', 'Low', 'Close', 'Change', 'Traded Volume', 'Turnover', 'Last Price of the Day', 'Daily Traded Units', 'Daily Turnover'], 'start_date': '2020-05-12', 'end_date': '2020-05-12', 'frequency': 'daily', 'data': [['2020-05-12', 91.55, 91.55, 86.0, 86.0, None, 332344.0, 29093515.5, None, None, None]], 'collapse': None, 'order': None}}\n"
     ]
    }
   ],
   "source": [
    "# Now, call the Quandl API and pull out a small sample of the data (only one day) to get a glimpse\n",
    "# into the JSON structure that will be returned\n",
    "carl = \"https://www.quandl.com/api/v3/datasets/FSE/AFX_X/data.json?start_date=2020-05-12&end_date=2020-05-12&api_key=8gshPhdw2jCjTmeQTRmC\"\n",
    "res = requests.get(carl)\n",
    "print(res.json())"
   ]
  },
  {
   "cell_type": "code",
   "execution_count": 4,
   "metadata": {},
   "outputs": [
    {
     "name": "stdout",
     "output_type": "stream",
     "text": [
      "dict_items([('dataset_data', {'limit': None, 'transform': None, 'column_index': None, 'column_names': ['Date', 'Open', 'High', 'Low', 'Close', 'Change', 'Traded Volume', 'Turnover', 'Last Price of the Day', 'Daily Traded Units', 'Daily Turnover'], 'start_date': '2020-05-12', 'end_date': '2020-05-12', 'frequency': 'daily', 'data': [['2020-05-12', 91.55, 91.55, 86.0, 86.0, None, 332344.0, 29093515.5, None, None, None]], 'collapse': None, 'order': None})])\n",
      "{\n",
      "    \"dataset_data\": {\n",
      "        \"collapse\": null,\n",
      "        \"column_index\": null,\n",
      "        \"column_names\": [\n",
      "            \"Date\",\n",
      "            \"Open\",\n",
      "            \"High\",\n",
      "            \"Low\",\n",
      "            \"Close\",\n",
      "            \"Change\",\n",
      "            \"Traded Volume\",\n",
      "            \"Turnover\",\n",
      "            \"Last Price of the Day\",\n",
      "            \"Daily Traded Units\",\n",
      "            \"Daily Turnover\"\n",
      "        ],\n",
      "        \"data\": [\n",
      "            [\n",
      "                \"2020-05-12\",\n",
      "                91.55,\n",
      "                91.55,\n",
      "                86.0,\n",
      "                86.0,\n",
      "                null,\n",
      "                332344.0,\n",
      "                29093515.5,\n",
      "                null,\n",
      "                null,\n",
      "                null\n",
      "            ]\n",
      "        ],\n",
      "        \"end_date\": \"2020-05-12\",\n",
      "        \"frequency\": \"daily\",\n",
      "        \"limit\": null,\n",
      "        \"order\": null,\n",
      "        \"start_date\": \"2020-05-12\",\n",
      "        \"transform\": null\n",
      "    }\n",
      "}\n"
     ]
    }
   ],
   "source": [
    "# Inspect the JSON structure of the object you created, and take note of how nested it is,\n",
    "# as well as the overall structure\n",
    "import json\n",
    "carlData = res.json()\n",
    "print(carlData.items())\n",
    "\n",
    "print(json.dumps(carlData, indent=4, sort_keys=True))\n",
    "   "
   ]
  },
  {
   "cell_type": "markdown",
   "metadata": {},
   "source": [
    "These are your tasks for this mini project:\n",
    "\n",
    "1. Collect data from the Franfurt Stock Exchange, for the ticker AFX_X, for the whole year 2017 (keep in mind that the date format is YYYY-MM-DD).\n",
    "2. Convert the returned JSON object into a Python dictionary.\n",
    "3. Calculate what the highest and lowest opening prices were for the stock in this period.\n",
    "4. What was the largest change in any one day (based on High and Low price)?\n",
    "5. What was the largest change between any two days (based on Closing Price)?\n",
    "6. What was the average daily trading volume during this year?\n",
    "7. (Optional) What was the median trading volume during this year. (Note: you may need to implement your own function for calculating the median.)"
   ]
  },
  {
   "cell_type": "code",
   "execution_count": 5,
   "metadata": {},
   "outputs": [],
   "source": [
    "#Collect data from FSE for AFX_X for 2017\n",
    "AFX2017 = \"https://www.quandl.com/api/v3/datasets/FSE/AFX_X/data.json?start_date=2017-01-01&end_date=2017-12-31&api_key=8gshPhdw2jCjTmeQTRmC\"\n",
    "res = requests.get(AFX2017)"
   ]
  },
  {
   "cell_type": "code",
   "execution_count": 6,
   "metadata": {
    "scrolled": false
   },
   "outputs": [],
   "source": [
    "#set content as a json file in AFXData\n",
    "AFXData = res.json() \n",
    "\n",
    "#convert into json file\n",
    "AFXData2017 = json.dumps(AFXData) \n",
    "\n",
    "#parse AFXData2017, convert to python dictionary\n",
    "AFXDict = json.loads(AFXData2017)\n",
    "\n",
    "\n",
    "#print (AFXDict)\n",
    "\n",
    "#This seems like an extra step in the above code, but this is the only way I could get it to print without an error"
   ]
  },
  {
   "cell_type": "code",
   "execution_count": 7,
   "metadata": {},
   "outputs": [
    {
     "data": {
      "text/plain": [
       "dict"
      ]
     },
     "execution_count": 7,
     "metadata": {},
     "output_type": "execute_result"
    }
   ],
   "source": [
    "type(AFXDict)"
   ]
  },
  {
   "cell_type": "code",
   "execution_count": 8,
   "metadata": {},
   "outputs": [
    {
     "data": {
      "text/plain": [
       "dict_keys(['dataset_data'])"
      ]
     },
     "execution_count": 8,
     "metadata": {},
     "output_type": "execute_result"
    }
   ],
   "source": [
    "AFXDict.keys()"
   ]
  },
  {
   "cell_type": "code",
   "execution_count": 9,
   "metadata": {
    "scrolled": true
   },
   "outputs": [
    {
     "name": "stdout",
     "output_type": "stream",
     "text": [
      "[51.76, 51.65, 51.45, 51.05, 51.16, 51.88, 52.73, 52.37, 52.7, 53.11, 52.64, 52.29, 52.28, 51.5, 50.89, 50.8, 51.21, 49.5, 49.52, 48.64, 49.64, 49.09, 49.13, 49.11, 48.8, 48.4, 47.25, 46.57, 47.03, 47.09, 47.98, 48.4, 48.38, 47.3, 47.65, 46.42, 46.16, 45.81, 45.0, 45.88, 46.29, 46.53, 45.48, 45.2, 45.01, 45.16, 44.9, 45.08, 45.72, 46.01, 45.8, 45.61, 45.5, 45.58, 45.97, 45.64, 46.2, 46.19, 46.01, 45.36, 44.51, 43.58, 42.0, 42.35, 42.3, 42.3, 41.48, 42.29, 42.54, 42.65, 42.5, 42.29, 42.35, 42.49, 43.21, 42.81, 42.7, 43.0, 42.66, 43.0, 42.38, 42.16, 42.0, 42.0, 41.71, 42.11, 42.64, 42.72, 42.82, 42.46, 42.42, 42.28, 41.88, 42.4, 42.53, 42.12, 41.3, 41.73, 43.5, 44.9, 45.85, 45.13, 45.34, 45.25, 45.24, 44.94, 45.26, 45.16, 44.91, 44.7, 45.31, 45.57, 45.74, 45.06, 45.5, 45.6, 45.07, 44.67, 44.29, 44.94, 44.64, 44.79, 45.5, 44.67, 45.83, 45.29, 45.01, 45.73, 46.68, 47.23, 46.95, 47.29, 47.03, 47.46, 46.48, 46.9, 45.66, 46.34, 46.52, 46.5, 47.31, 46.77, 47.8, 47.01, 47.12, 46.8, 46.12, 45.22, 45.05, 45.61, 44.8, 44.8, 43.92, 43.67, 44.16, 43.74, 44.0, 45.06, 45.15, 45.09, 45.18, 43.4, 43.5, 41.83, 43.0, 42.52, 41.86, 42.2, 41.89, None, 42.17, 41.51, 41.88, 41.93, 42.01, 41.97, 42.5, 41.94, 42.24, None, None, 42.06, 42.02, 41.62, 41.46, 40.9, 40.96, 41.1, 39.5, 40.15, 39.77, 40.02, 39.39, 38.95, 38.73, 38.94, 39.01, 38.25, 41.8, 41.26, 41.47, 41.4, 41.4, 41.2, 41.4, 41.53, 41.61, 41.13, 41.5, 41.25, 41.12, 41.38, 41.19, 40.38, 39.75, 39.77, 39.72, 39.6, 38.85, 39.25, 38.8, 38.8, 38.5, 38.81, 37.37, 36.65, 36.2, 35.98, 35.56, 36.06, 36.02, 35.95, 34.75, 35.24, 35.38, 34.83, 35.07, 34.42, 34.0, 34.04, 34.54, 35.04, 35.04, 35.06, 34.85, 34.98, 35.38, 34.95, 34.8, 35.29, 34.91, 35.02, 35.48, 35.9, 34.99]\n",
      "255\n"
     ]
    }
   ],
   "source": [
    "#Print List of Daily Opens\n",
    "\n",
    "dailyOpens = []\n",
    "\n",
    "def dOpens(stockDict):\n",
    "    for items in (stockDict['dataset_data']['data']):\n",
    "        oprice = items[1]    #Opening Price is in index 1 of daily lists (items = daily lists in the nested dictionary)\n",
    "        dailyOpens.append(oprice)\n",
    "        continue\n",
    "\n",
    "dOpens(AFXDict)\n",
    "print(dailyOpens) \n",
    "print(len(dailyOpens))"
   ]
  },
  {
   "cell_type": "code",
   "execution_count": 11,
   "metadata": {},
   "outputs": [
    {
     "name": "stdout",
     "output_type": "stream",
     "text": [
      "[51.76, 51.6, 51.82, 51.32, 51.4, 51.27, 51.66, 52.62, 52.01, 52.67, 53.09, 52.43, 52.14, 52.12, 51.47, 50.89, 51.25, 51.14, 49.86, 49.7, 48.75, 49.25, 49.2, 49.11, 49.2, 48.8, 48.39, 47.04, 46.84, 47.03, 47.05, 48.0, 48.34, 48.34, 47.21, 47.47, 46.26, 45.99, 45.97, 45.27, 46.04, 45.76, 46.41, 45.41, 45.0, 44.85, 45.0, 44.87, 45.0, 45.77, 45.96, 45.55, 45.4, 45.43, 45.29, 45.84, 45.74, 46.0, 46.05, 46.11, 44.98, 44.17, 43.56, 42.04, 42.37, 42.07, 42.06, 41.46, 41.99, 42.44, 42.27, 42.42, 42.52, 42.45, 42.73, 42.85, 42.67, 42.77, 42.55, 42.62, 42.6, 42.41, 41.9, 41.94, 41.85, 41.91, 42.14, 42.69, 42.71, 42.71, 42.26, 42.41, 42.5, 42.05, 42.28, 42.3, 41.94, 41.68, 41.81, 44.37, 44.96, 45.07, 44.97, 45.56, 45.45, 45.3, 44.97, 45.25, 45.16, 44.82, 44.61, 45.44, 45.66, 45.57, 45.0, 45.6, 45.53, 44.95, 44.95, 44.2, 44.7, 44.53, 44.62, 45.19, 44.8, 45.75, 45.44, 45.2, 45.68, 46.83, 47.21, 46.99, 47.29, 46.99, 47.37, 46.64, 46.63, 45.67, 46.33, 46.32, 46.31, 47.44, 46.27, 47.43, 47.43, 46.99, 46.52, 45.86, 46.02, 45.32, 45.3, 44.78, 44.53, 43.9, 43.84, 44.12, 43.98, 44.19, 45.31, 45.14, 44.99, 45.0, 43.28, 43.3, 42.24, 42.75, 42.5, 41.9, 42.15, 41.72, 41.72, 42.16, 41.5, 41.89, 41.81, 41.32, 41.93, 42.61, 42.0, 42.2, 42.2, 42.2, 42.2, 41.75, 41.68, 41.42, 41.05, 41.1, 40.81, 39.64, 39.98, 39.75, 40.01, 39.22, 38.85, 38.94, 38.96, 38.94, 40.98, 41.97, 41.34, 41.46, 41.25, 41.3, 41.3, 41.4, 41.4, 41.68, 41.42, 41.4, 41.18, 41.17, 41.2, 40.84, 40.39, 39.74, 39.79, 39.7, 39.45, 38.98, 39.02, 38.71, 38.72, 38.37, 38.53, 37.06, 36.25, 36.05, 35.89, 35.64, 36.1, 36.07, 35.94, 34.56, 35.15, 35.3, 34.89, 34.83, 34.22, 34.06, 34.17, 34.5, 34.9, 34.99, 35.07, 34.85, 34.9, 35.42, 34.91, 34.67, 35.04, 35.06, 35.19, 35.48, 35.8]\n",
      "255\n"
     ]
    }
   ],
   "source": [
    "#Print List of Daily Closes\n",
    "dailyCloses = []\n",
    "\n",
    "def dayClose(stockDict):\n",
    "    for items in (stockDict['dataset_data']['data']):\n",
    "        cprice = items[4]    #Closing Price is in index 4 of daily lists (items = daily lists in the nested dictionary)\n",
    "        dailyCloses.append(cprice)\n",
    "        continue\n",
    "            \n",
    "dayClose(AFXDict)\n",
    "print(dailyCloses)\n",
    "print(len(dailyCloses))"
   ]
  },
  {
   "cell_type": "code",
   "execution_count": 13,
   "metadata": {},
   "outputs": [
    {
     "name": "stdout",
     "output_type": "stream",
     "text": [
      "1.6899999999999977\n",
      "Max Open: 53.11\n",
      "Min Open: 34.0\n"
     ]
    }
   ],
   "source": [
    "# Convert None values to np.nan\n",
    "import numpy as np\n",
    "\n",
    "dailyOpens_clean = [i if i is not None else np.nan for i in dailyOpens]\n",
    "\n",
    "dailyCloses_clean = [i if i is not None else np.nan for i in dailyCloses]\n",
    "\n",
    "daily_diff = [x - y for x, y in zip(dailyOpens_clean, dailyCloses_clean)]\n",
    "\n",
    "print(max(daily_diff))\n",
    "\n",
    "#Print min Open and max Open values from dailyOpens List\n",
    "print('Max Open:', max(dailyOpens_clean))\n",
    "print('Min Open:', min(dailyOpens_clean))"
   ]
  },
  {
   "cell_type": "code",
   "execution_count": 16,
   "metadata": {},
   "outputs": [
    {
     "name": "stdout",
     "output_type": "stream",
     "text": [
      "The largest change between any two two days:  2.559999999999995\n"
     ]
    }
   ],
   "source": [
    "#largest change between any two days (based on Closing Price)\n",
    "  \n",
    "# Calculating difference list \n",
    "diff_list = [] \n",
    "  \n",
    "for i in range(1, len(dailyCloses_clean)): \n",
    "    diff_list.append(dailyCloses_clean[i] - dailyCloses_clean[i-1]) \n",
    "  \n",
    "print('The largest change between any two two days: ', max(diff_list))"
   ]
  },
  {
   "cell_type": "code",
   "execution_count": 31,
   "metadata": {},
   "outputs": [
    {
     "name": "stdout",
     "output_type": "stream",
     "text": [
      "[34640.0, 40660.0, 57452.0, 71165.0, 120649.0, 50587.0, 137313.0, 129733.0, 204080.0, 132981.0, 128434.0, 87911.0, 71817.0, 109157.0, 48123.0, 88730.0, 83023.0, 94385.0, 101733.0, 123019.0, 67342.0, 42669.0, 102180.0, 50350.0, 38834.0, 91142.0, 78502.0, 97252.0, 54107.0, 89373.0, 67593.0, 67672.0, 76286.0, 90245.0, 120268.0, 94195.0, 48152.0, 60716.0, 56911.0, 37958.0, 56319.0, 56245.0, 74472.0, 56319.0, 47730.0, 43042.0, 43375.0, 55707.0, 59991.0, 45263.0, 65837.0, 49246.0, 43362.0, 49180.0, 69455.0, 65860.0, 44059.0, 66760.0, 94804.0, 115706.0, 95313.0, 99821.0, 157234.0, 76600.0, 51321.0, 56224.0, 79955.0, 105194.0, 57838.0, 65546.0, 44037.0, 107144.0, 65157.0, 68801.0, 52828.0, 103273.0, 59881.0, 64320.0, 71006.0, 66351.0, 105288.0, 151474.0, 157888.0, 97804.0, 98156.0, 47130.0, 69734.0, 65213.0, 70269.0, 95376.0, 68812.0, 72886.0, 131361.0, 104676.0, 64334.0, 127682.0, 183412.0, 175161.0, 355857.0, 156168.0, 164543.0, 96202.0, 77854.0, 187468.0, 74975.0, 62672.0, 114006.0, 50557.0, 81970.0, 112224.0, 104282.0, 73422.0, 87399.0, 71971.0, 104003.0, 104995.0, 67375.0, 82745.0, 115705.0, 90538.0, 71868.0, 47999.0, 66116.0, 48706.0, 50549.0, 71381.0, 136112.0, 134965.0, 117165.0, 82492.0, 73322.0, 80586.0, 56071.0, 89752.0, 108334.0, 70056.0, 202214.0, 101733.0, 83741.0, 107644.0, 112942.0, 99674.0, 1945.0, 1081.0, 686.0, 290.0, 106513.0, 522.0, 587.0, 112.0, 74453.0, 49970.0, 111923.0, 38308.0, 70856.0, 45.0, 166160.0, 149515.0, 101476.0, 193702.0, 159495.0, 189125.0, 91858.0, 151439.0, 97456.0, 78512.0, 82058.0, 65266.0, 86559.0, 86348.0, 86348.0, 151683.0, 65847.0, 85973.0, 102084.0, 186784.0, 223621.0, 92722.0, 133057.0, 88416.0, 88416.0, 88416.0, 158278.0, 107817.0, 62297.0, 81255.0, 96794.0, 156005.0, 193156.0, 127973.0, 95382.0, 189201.0, 335406.0, 115075.0, 191515.0, 210926.0, 169971.0, 670349.0, 56906.0, 97572.0, 90109.0, 55799.0, 60324.0, 60420.0, 44803.0, 38518.0, 43988.0, 45111.0, 61925.0, 46510.0, 40800.0, 49863.0, 86753.0, 67440.0, 62655.0, 101294.0, 81945.0, 77619.0, 46070.0, 37014.0, 60583.0, 84682.0, 77420.0, 82601.0, 177171.0, 115843.0, 67781.0, 39731.0, 67410.0, 41911.0, 40705.0, 54279.0, 85137.0, 63371.0, 69603.0, 69657.0, 64103.0, 56240.0, 48797.0, 55333.0, 80246.0, 73105.0, 65931.0, 39195.0, 47879.0, 59367.0, 163860.0, 123530.0, 43976.0, 62225.0, 27507.0, 48412.0, 54408.0, 70618.0, 44700.0]\n"
     ]
    }
   ],
   "source": [
    "#Print List of Daily Trading Volumes\n",
    "dailyVols = []\n",
    "\n",
    "def dayVolume(stockDict):\n",
    "    for x in (stockDict['dataset_data']['data']):\n",
    "        dvol = x[6]    \n",
    "        dailyVols.append(dvol)\n",
    "        continue\n",
    "            \n",
    "dayVolume(AFXDict)\n",
    "print(dailyVols)"
   ]
  },
  {
   "cell_type": "code",
   "execution_count": 34,
   "metadata": {},
   "outputs": [
    {
     "name": "stdout",
     "output_type": "stream",
     "text": [
      "89124.33725490196\n"
     ]
    },
    {
     "data": {
      "text/plain": [
       "89124.33725490196"
      ]
     },
     "execution_count": 34,
     "metadata": {},
     "output_type": "execute_result"
    }
   ],
   "source": [
    "#Find average daily trading volume during this year?\n",
    "\n",
    "print(sum(dailyVols) / len(dailyVols))\n",
    "\n",
    "#or\n",
    "\n",
    "import statistics\n",
    "statistics.mean(dailyVols)\n",
    "\n"
   ]
  },
  {
   "cell_type": "code",
   "execution_count": 36,
   "metadata": {},
   "outputs": [
    {
     "name": "stdout",
     "output_type": "stream",
     "text": [
      "76286.0\n"
     ]
    }
   ],
   "source": [
    "#(Optional) What was the median trading volume during this year. (Note: you may need to implement your own function for calculating the median.)\n",
    "\n",
    "def median(dv):\n",
    "    sortedLst = sorted(dv)\n",
    "    lstLen = len(dv)\n",
    "    index = (lstLen - 1) // 2\n",
    "\n",
    "    if (lstLen % 2):\n",
    "        return sortedLst[index]\n",
    "    else:\n",
    "        return (sortedLst[index] + sortedLst[index + 1])/2.0\n",
    "    \n",
    "print(median(dailyVols))\n"
   ]
  },
  {
   "cell_type": "code",
   "execution_count": null,
   "metadata": {},
   "outputs": [],
   "source": []
  }
 ],
 "metadata": {
  "kernelspec": {
   "display_name": "Python 3",
   "language": "python",
   "name": "python3"
  },
  "language_info": {
   "codemirror_mode": {
    "name": "ipython",
    "version": 3
   },
   "file_extension": ".py",
   "mimetype": "text/x-python",
   "name": "python",
   "nbconvert_exporter": "python",
   "pygments_lexer": "ipython3",
   "version": "3.7.6"
  }
 },
 "nbformat": 4,
 "nbformat_minor": 2
}
